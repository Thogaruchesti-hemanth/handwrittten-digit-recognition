{
 "cells": [
  {
   "cell_type": "markdown",
   "id": "365191a7",
   "metadata": {},
   "source": [
    "#                                  MINOR PROJECT \n",
    "\n",
    "***Project Name:***\n",
    "Artifical intelligence june minor project \n",
    "\n",
    "** Project Description **\n",
    "\n",
    "***problem statement: ***\n",
    "Create a deep learning model to predict the different hand written digits ranging from 0 to 9 "
   ]
  },
  {
   "cell_type": "markdown",
   "id": "aa634d73",
   "metadata": {},
   "source": [
    "#  steps to consider \n",
    "1. Normalize images by dividing pixels by 255(if required )\n",
    "2. Convert labels to catergories ( if requried) \n",
    "3. Build a CNN Architecture \n",
    "4. Execute the model for appropriatee number of epochs \n",
    "5. Depict loss vs  val_loss on line chart \n",
    "6. Depict accuracy vs  val_accuracy on line chart \n",
    "7. Generate predictions on test_data\n",
    "8. Compute Confusion matrix and classification report \n"
   ]
  },
  {
   "cell_type": "markdown",
   "id": "8159f491",
   "metadata": {},
   "source": [
    "#  Starting of the program \n",
    "\n",
    "**Things which i used in this program (import )** \n",
    "1. keras \n",
    "2. matplotlib\n",
    "3. pandas \n",
    "4.numpy "
   ]
  },
  {
   "cell_type": "markdown",
   "id": "671e4819",
   "metadata": {},
   "source": [
    "**imported mnist from keras.datasets**"
   ]
  },
  {
   "cell_type": "code",
   "execution_count": 5,
   "id": "3c33eecb",
   "metadata": {},
   "outputs": [],
   "source": [
    "import keras \n",
    "from keras.datasets import mnist \n",
    "\n",
    "#the data , split between train and test sets \n",
    "\n",
    "((x_train,y_train),(x_test,y_test))=mnist.load_data()"
   ]
  },
  {
   "cell_type": "markdown",
   "id": "c139f8b4",
   "metadata": {},
   "source": [
    "**Preproessing the datasets**"
   ]
  },
  {
   "cell_type": "code",
   "execution_count": 6,
   "id": "30cd5d13",
   "metadata": {},
   "outputs": [],
   "source": [
    "\n",
    "x_train=x_train.reshape((x_train.shape[0],28*28)).astype('float32')\n",
    "x_test=x_test.reshape((x_test.shape[0],28*28)).astype('float32')"
   ]
  },
  {
   "cell_type": "markdown",
   "id": "2021c87e",
   "metadata": {},
   "source": [
    "**1.Normalize images by dividing pixels by 255**"
   ]
  },
  {
   "cell_type": "code",
   "execution_count": 7,
   "id": "806f2f47",
   "metadata": {},
   "outputs": [],
   "source": [
    "x_train=x_train/255\n",
    "x_test=x_test/255"
   ]
  },
  {
   "cell_type": "markdown",
   "id": "36144282",
   "metadata": {},
   "source": [
    "**2.Converting  labels to catergories**"
   ]
  },
  {
   "cell_type": "code",
   "execution_count": 8,
   "id": "4844a897",
   "metadata": {},
   "outputs": [
    {
     "name": "stdout",
     "output_type": "stream",
     "text": [
      "(10000,)\n",
      "(10000, 10)\n"
     ]
    }
   ],
   "source": [
    "print(y_test.shape)\n",
    "y_train=keras.utils.to_categorical(y_train)\n",
    "y_test=keras.utils.to_categorical(y_test)\n",
    "\n",
    "num_classes=y_test.shape[1]\n",
    "print(y_test.shape)\n"
   ]
  },
  {
   "cell_type": "markdown",
   "id": "6206fbe1",
   "metadata": {},
   "source": [
    "**3.Building a CNN Architecture** "
   ]
  },
  {
   "cell_type": "code",
   "execution_count": 9,
   "id": "d56718f6",
   "metadata": {},
   "outputs": [],
   "source": [
    "from keras.models import Sequential \n",
    "from keras.layers import Dense \n",
    "\n",
    "input_shape=(28,28,1)\n",
    "model=Sequential()\n",
    "model.add(Dense(32,input_dim=28*28,activation='relu'))\n",
    "model.add(Dense(64, activation='relu'))\n",
    "model.add(Dense(10,activation='softmax'))\n",
    "model.compile(loss=keras.losses.categorical_crossentropy,optimizer=keras.optimizers.Adam(),metrics=['accuracy'])"
   ]
  },
  {
   "cell_type": "code",
   "execution_count": 10,
   "id": "8364a30e",
   "metadata": {},
   "outputs": [
    {
     "name": "stdout",
     "output_type": "stream",
     "text": [
      "Model: \"sequential\"\n",
      "_________________________________________________________________\n",
      " Layer (type)                Output Shape              Param #   \n",
      "=================================================================\n",
      " dense (Dense)               (None, 32)                25120     \n",
      "                                                                 \n",
      " dense_1 (Dense)             (None, 64)                2112      \n",
      "                                                                 \n",
      " dense_2 (Dense)             (None, 10)                650       \n",
      "                                                                 \n",
      "=================================================================\n",
      "Total params: 27,882\n",
      "Trainable params: 27,882\n",
      "Non-trainable params: 0\n",
      "_________________________________________________________________\n"
     ]
    }
   ],
   "source": [
    "model.summary()"
   ]
  },
  {
   "cell_type": "markdown",
   "id": "fdbc83cd",
   "metadata": {},
   "source": [
    "**4.Executing  the model for 10 number of epochs**"
   ]
  },
  {
   "cell_type": "code",
   "execution_count": 11,
   "id": "490fef62",
   "metadata": {},
   "outputs": [
    {
     "name": "stdout",
     "output_type": "stream",
     "text": [
      "Epoch 1/10\n",
      "469/469 [==============================] - 3s 4ms/step - loss: 0.4588 - accuracy: 0.8686 - val_loss: 0.2534 - val_accuracy: 0.9260\n",
      "Epoch 2/10\n",
      "469/469 [==============================] - 2s 3ms/step - loss: 0.2170 - accuracy: 0.9371 - val_loss: 0.1892 - val_accuracy: 0.9452\n",
      "Epoch 3/10\n",
      "469/469 [==============================] - 2s 3ms/step - loss: 0.1677 - accuracy: 0.9506 - val_loss: 0.1721 - val_accuracy: 0.9503\n",
      "Epoch 4/10\n",
      "469/469 [==============================] - 2s 3ms/step - loss: 0.1392 - accuracy: 0.9585 - val_loss: 0.1404 - val_accuracy: 0.9581\n",
      "Epoch 5/10\n",
      "469/469 [==============================] - 2s 4ms/step - loss: 0.1204 - accuracy: 0.9644 - val_loss: 0.1548 - val_accuracy: 0.9541\n",
      "Epoch 6/10\n",
      "469/469 [==============================] - 2s 4ms/step - loss: 0.1069 - accuracy: 0.9683 - val_loss: 0.1180 - val_accuracy: 0.9647\n",
      "Epoch 7/10\n",
      "469/469 [==============================] - 2s 4ms/step - loss: 0.0945 - accuracy: 0.9714 - val_loss: 0.1210 - val_accuracy: 0.9633\n",
      "Epoch 8/10\n",
      "469/469 [==============================] - 2s 4ms/step - loss: 0.0866 - accuracy: 0.9734 - val_loss: 0.1115 - val_accuracy: 0.9670\n",
      "Epoch 9/10\n",
      "469/469 [==============================] - 2s 4ms/step - loss: 0.0800 - accuracy: 0.9753 - val_loss: 0.1229 - val_accuracy: 0.9642\n",
      "Epoch 10/10\n",
      "469/469 [==============================] - 2s 3ms/step - loss: 0.0730 - accuracy: 0.9773 - val_loss: 0.1095 - val_accuracy: 0.9674\n"
     ]
    }
   ],
   "source": [
    "SH=model.fit(x_train,y_train,epochs=10,batch_size=128,validation_data=(x_test,y_test))\n"
   ]
  },
  {
   "cell_type": "code",
   "execution_count": 12,
   "id": "a73119c3",
   "metadata": {},
   "outputs": [
    {
     "name": "stdout",
     "output_type": "stream",
     "text": [
      "313/313 [==============================] - 1s 2ms/step - loss: 0.1095 - accuracy: 0.9674\n",
      "[0.10950674116611481, 0.9674000144004822]\n"
     ]
    }
   ],
   "source": [
    "scores=model.evaluate(x_test,y_test)\n",
    "print(scores)"
   ]
  },
  {
   "cell_type": "markdown",
   "id": "6383087d",
   "metadata": {},
   "source": [
    "**5. Depictt loss vs  val_loss on line chart**"
   ]
  },
  {
   "cell_type": "code",
   "execution_count": 13,
   "id": "47f52289",
   "metadata": {},
   "outputs": [
    {
     "data": {
      "image/png": "[encoded data removed]",
      "text/plain": [
       "<Figure size 432x288 with 1 Axes>"
      ]
     },
     "metadata": {
      "needs_background": "light"
     },
     "output_type": "display_data"
    }
   ],
   "source": [
    "import matplotlib.pyplot as plt\n",
    "import pandas as pd \n",
    "r1=pd.DataFrame(SH.history)\n",
    "r1['Epochs']=SH.epoch\n",
    "plt.plot(r1['Epochs'],r1['loss'],label='train')\n",
    "plt.plot(r1['Epochs'],r1['val_loss'],label='test')\n",
    "plt.xlabel(\"Epochs\")\n",
    "plt.ylabel(\"loss\")\n",
    "plt.legend()\n",
    "plt.grid()\n",
    "plt.show()"
   ]
  },
  {
   "cell_type": "markdown",
   "id": "c3c7e092",
   "metadata": {},
   "source": [
    "**6. Depict accuracy vs  val_accuracy on line chart**"
   ]
  },
  {
   "cell_type": "code",
   "execution_count": 14,
   "id": "645e72e1",
   "metadata": {},
   "outputs": [
    {
     "data": {
      "image/png": "[encoded data removed]",
      "text/plain": [
       "<Figure size 432x288 with 1 Axes>"
      ]
     },
     "metadata": {
      "needs_background": "light"
     },
     "output_type": "display_data"
    }
   ],
   "source": [
    "\n",
    "plt.plot(r1['Epochs'],r1['accuracy'],label='train')\n",
    "plt.plot(r1['Epochs'],r1['val_accuracy'],label='test')\n",
    "plt.xlabel(\"Epochs\")\n",
    "plt.ylabel(\"Accuracy\")\n",
    "plt.legend()\n",
    "plt.grid()\n",
    "plt.show()"
   ]
  },
  {
   "cell_type": "markdown",
   "id": "30a9fde4",
   "metadata": {},
   "source": [
    "**7. Generating predictions on test_data**"
   ]
  },
  {
   "cell_type": "code",
   "execution_count": 20,
   "id": "38071bb2",
   "metadata": {},
   "outputs": [
    {
     "data": {
      "text/plain": [
       "array([8.0916536e-09, 1.2765428e-03, 9.9871731e-01, 2.2683023e-06,\n",
       "       1.1798933e-12, 2.0246928e-07, 3.4622790e-06, 6.9966609e-11,\n",
       "       1.9379802e-07, 2.5656265e-13], dtype=float32)"
      ]
     },
     "execution_count": 20,
     "metadata": {},
     "output_type": "execute_result"
    }
   ],
   "source": [
    "from sklearn.metrics import confusion_matrix ,classification_report\n",
    " \n",
    "\n",
    "y_pred =model.predict(x_test,batch_size=128,verbose=0)\n",
    "\n",
    "y_pred[1]"
   ]
  },
  {
   "cell_type": "code",
   "execution_count": 21,
   "id": "6e88ced8",
   "metadata": {},
   "outputs": [
    {
     "data": {
      "text/plain": [
       "array([0., 0., 1., 0., 0., 0., 0., 0., 0., 0.], dtype=float32)"
      ]
     },
     "execution_count": 21,
     "metadata": {},
     "output_type": "execute_result"
    }
   ],
   "source": [
    "y_test[1]"
   ]
  },
  {
   "cell_type": "code",
   "execution_count": 22,
   "id": "9d5987dd",
   "metadata": {},
   "outputs": [
    {
     "data": {
      "text/plain": [
       "2"
      ]
     },
     "execution_count": 22,
     "metadata": {},
     "output_type": "execute_result"
    }
   ],
   "source": [
    "import numpy as np \n",
    "sh1=np.argmax(y_test,axis=1)\n",
    "sh1[1]"
   ]
  },
  {
   "cell_type": "markdown",
   "id": "83d26edc",
   "metadata": {},
   "source": [
    "**8. Computing  Confusion matrix and classification report**"
   ]
  },
  {
   "cell_type": "code",
   "execution_count": 25,
   "id": "cfc5f336",
   "metadata": {},
   "outputs": [
    {
     "data": {
      "text/plain": [
       "array([[ 971,    0,    1,    2,    0,    1,    2,    1,    1,    1],\n",
       "       [   0, 1124,    3,    1,    0,    1,    3,    1,    2,    0],\n",
       "       [   7,    3,  993,    4,    1,    0,    7,    7,    9,    1],\n",
       "       [   0,    1,    5,  983,    0,    2,    0,    9,   10,    0],\n",
       "       [   2,    0,    8,    1,  938,    0,    7,    4,    0,   22],\n",
       "       [   7,    4,    2,   25,    1,  832,    8,    2,    7,    4],\n",
       "       [  10,    3,    0,    1,    2,    2,  939,    0,    1,    0],\n",
       "       [   1,    6,    9,    4,    1,    0,    0, 1000,    0,    7],\n",
       "       [   4,    1,    2,   10,    4,    6,    7,    7,  930,    3],\n",
       "       [   5,    5,    1,   11,    9,    3,    0,    9,    2,  964]],\n",
       "      dtype=int64)"
      ]
     },
     "execution_count": 25,
     "metadata": {},
     "output_type": "execute_result"
    }
   ],
   "source": [
    "cm=confusion_matrix(sh1,y_pred.argmax(axis=1))\n",
    "cm"
   ]
  },
  {
   "cell_type": "code",
   "execution_count": 26,
   "id": "fc7b99a7",
   "metadata": {},
   "outputs": [
    {
     "name": "stdout",
     "output_type": "stream",
     "text": [
      "              precision    recall  f1-score   support\n",
      "\n",
      "           0       0.96      0.99      0.98       980\n",
      "           1       0.98      0.99      0.99      1135\n",
      "           2       0.97      0.96      0.97      1032\n",
      "           3       0.94      0.97      0.96      1010\n",
      "           4       0.98      0.96      0.97       982\n",
      "           5       0.98      0.93      0.96       892\n",
      "           6       0.97      0.98      0.97       958\n",
      "           7       0.96      0.97      0.97      1028\n",
      "           8       0.97      0.95      0.96       974\n",
      "           9       0.96      0.96      0.96      1009\n",
      "\n",
      "    accuracy                           0.97     10000\n",
      "   macro avg       0.97      0.97      0.97     10000\n",
      "weighted avg       0.97      0.97      0.97     10000\n",
      "\n"
     ]
    }
   ],
   "source": [
    "print(classification_report(sh1,y_pred.argmax(axis=1)))\n"
   ]
  },
  {
   "cell_type": "markdown",
   "id": "49f94c99",
   "metadata": {},
   "source": [
    "**done by**\n",
    "**name:** Thogaruchesti Hemanth<br>\n",
    "**Batch:** june "
   ]
  },
  {
   "cell_type": "code",
   "execution_count": null,
   "id": "fb19d679",
   "metadata": {},
   "outputs": [],
   "source": []
  }
 ],
 "metadata": {
  "kernelspec": {
   "display_name": "Python 3 (ipykernel)",
   "language": "python",
   "name": "python3"
  },
  "language_info": {
   "codemirror_mode": {
    "name": "ipython",
    "version": 3
   },
   "file_extension": ".py",
   "mimetype": "text/x-python",
   "name": "python",
   "nbconvert_exporter": "python",
   "pygments_lexer": "ipython3",
   "version": "3.9.12"
  }
 },
 "nbformat": 4,
 "nbformat_minor": 5
}
